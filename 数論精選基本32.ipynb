{
 "cells": [
  {
   "cell_type": "code",
   "execution_count": 1,
   "id": "db7775eb",
   "metadata": {},
   "outputs": [],
   "source": [
    "### 10桁の正の整数は11111の倍数、かつ、各桁に0から9の数字が１度ずつ現れる。この整数は何個ありうるか? "
   ]
  },
  {
   "cell_type": "code",
   "execution_count": 2,
   "id": "da213efc",
   "metadata": {},
   "outputs": [
    {
     "data": {
      "text/plain": [
       "900009.0000900009"
      ]
     },
     "execution_count": 2,
     "metadata": {},
     "output_type": "execute_result"
    }
   ],
   "source": [
    "(10**10)/11111"
   ]
  },
  {
   "cell_type": "code",
   "execution_count": 3,
   "id": "67dd37e5",
   "metadata": {},
   "outputs": [
    {
     "name": "stdout",
     "output_type": "stream",
     "text": [
      "3456\n"
     ]
    }
   ],
   "source": [
    "count = 0 \n",
    "\n",
    "for i in range(1, 900010):\n",
    "    a = str(i * 11111)\n",
    "    test = 1\n",
    "    for j in range(10):\n",
    "        test = test * (str(j) in a)\n",
    "    count = count + 1*test\n",
    "\n",
    "print(count)"
   ]
  },
  {
   "cell_type": "code",
   "execution_count": null,
   "id": "ee7ece60",
   "metadata": {},
   "outputs": [],
   "source": []
  }
 ],
 "metadata": {
  "kernelspec": {
   "display_name": "Python 3",
   "language": "python",
   "name": "python3"
  },
  "language_info": {
   "codemirror_mode": {
    "name": "ipython",
    "version": 3
   },
   "file_extension": ".py",
   "mimetype": "text/x-python",
   "name": "python",
   "nbconvert_exporter": "python",
   "pygments_lexer": "ipython3",
   "version": "3.8.8"
  }
 },
 "nbformat": 4,
 "nbformat_minor": 5
}
